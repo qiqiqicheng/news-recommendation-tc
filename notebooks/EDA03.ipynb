{
 "cells": [
  {
   "cell_type": "code",
   "execution_count": 1,
   "id": "b4ee9c22",
   "metadata": {},
   "outputs": [],
   "source": [
    "import numpy as np\n",
    "import pandas as pd\n",
    "import pickle\n",
    "from tqdm import tqdm\n",
    "import gc, os\n",
    "import logging\n",
    "import time\n",
    "import lightgbm as lgb\n",
    "from gensim.models import Word2Vec\n",
    "from sklearn.preprocessing import MinMaxScaler\n",
    "import warnings\n",
    "warnings.filterwarnings('ignore')\n",
    "import pickle"
   ]
  },
  {
   "cell_type": "code",
   "execution_count": 2,
   "id": "431b7126",
   "metadata": {},
   "outputs": [],
   "source": [
    "articles = pd.read_csv('../data/raw/articles.csv')\n",
    "train_clicks = pd.read_csv('../data/raw/train_click_log.csv')\n",
    "test_clicks = pd.read_csv('../data/raw/testA_click_log.csv')"
   ]
  },
  {
   "cell_type": "code",
   "execution_count": 3,
   "id": "78183f48",
   "metadata": {},
   "outputs": [
    {
     "data": {
      "text/plain": [
       "(364047, 4)"
      ]
     },
     "execution_count": 3,
     "metadata": {},
     "output_type": "execute_result"
    }
   ],
   "source": [
    "articles.shape"
   ]
  },
  {
   "cell_type": "code",
   "execution_count": 4,
   "id": "27ae36f2",
   "metadata": {},
   "outputs": [
    {
     "data": {
      "text/plain": [
       "(1112623, 9)"
      ]
     },
     "execution_count": 4,
     "metadata": {},
     "output_type": "execute_result"
    }
   ],
   "source": [
    "train_clicks.shape"
   ]
  },
  {
   "cell_type": "code",
   "execution_count": 5,
   "id": "64e87771",
   "metadata": {},
   "outputs": [
    {
     "data": {
      "text/plain": [
       "(518010, 9)"
      ]
     },
     "execution_count": 5,
     "metadata": {},
     "output_type": "execute_result"
    }
   ],
   "source": [
    "test_clicks.shape"
   ]
  },
  {
   "cell_type": "code",
   "execution_count": 6,
   "id": "97306e4e",
   "metadata": {},
   "outputs": [
    {
     "data": {
      "text/plain": [
       "(200000,)"
      ]
     },
     "execution_count": 6,
     "metadata": {},
     "output_type": "execute_result"
    }
   ],
   "source": [
    "train_clicks['user_id'].unique().shape"
   ]
  },
  {
   "cell_type": "code",
   "execution_count": 7,
   "id": "fecbb98c",
   "metadata": {},
   "outputs": [
    {
     "data": {
      "text/plain": [
       "(50000,)"
      ]
     },
     "execution_count": 7,
     "metadata": {},
     "output_type": "execute_result"
    }
   ],
   "source": [
    "test_clicks['user_id'].unique().shape"
   ]
  },
  {
   "cell_type": "code",
   "execution_count": 9,
   "id": "0e9b3f11",
   "metadata": {},
   "outputs": [],
   "source": [
    "all_features = pd.read_csv('../temp/main_features.csv')"
   ]
  },
  {
   "cell_type": "code",
   "execution_count": 10,
   "id": "d1ba1441",
   "metadata": {},
   "outputs": [
    {
     "data": {
      "text/plain": [
       "(7500000, 31)"
      ]
     },
     "execution_count": 10,
     "metadata": {},
     "output_type": "execute_result"
    }
   ],
   "source": [
    "all_features.shape"
   ]
  },
  {
   "cell_type": "code",
   "execution_count": null,
   "id": "6be02f6b",
   "metadata": {},
   "outputs": [],
   "source": []
  }
 ],
 "metadata": {
  "kernelspec": {
   "display_name": "base",
   "language": "python",
   "name": "python3"
  },
  "language_info": {
   "codemirror_mode": {
    "name": "ipython",
    "version": 3
   },
   "file_extension": ".py",
   "mimetype": "text/x-python",
   "name": "python",
   "nbconvert_exporter": "python",
   "pygments_lexer": "ipython3",
   "version": "3.12.7"
  }
 },
 "nbformat": 4,
 "nbformat_minor": 5
}
