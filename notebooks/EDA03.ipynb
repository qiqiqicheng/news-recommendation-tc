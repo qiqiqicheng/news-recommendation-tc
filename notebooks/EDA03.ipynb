{
 "cells": [
  {
   "cell_type": "code",
   "execution_count": 1,
   "id": "b4ee9c22",
   "metadata": {},
   "outputs": [],
   "source": [
    "import numpy as np\n",
    "import pandas as pd\n",
    "import pickle\n",
    "from tqdm import tqdm\n",
    "import gc, os\n",
    "import logging\n",
    "import time\n",
    "import lightgbm as lgb\n",
    "from gensim.models import Word2Vec\n",
    "from sklearn.preprocessing import MinMaxScaler\n",
    "import warnings\n",
    "warnings.filterwarnings('ignore')"
   ]
  },
  {
   "cell_type": "code",
   "execution_count": 3,
   "id": "55f486fa",
   "metadata": {},
   "outputs": [],
   "source": [
    "data_path = '../data/raw/'\n",
    "save_path = \"../temp/\""
   ]
  },
  {
   "cell_type": "code",
   "execution_count": 4,
   "id": "4b4f57ad",
   "metadata": {},
   "outputs": [],
   "source": [
    "def trn_val_split(all_click_df, sample_user_nums):\n",
    "    all_click = all_click_df\n",
    "    all_user_ids = all_click.user_id.unique()\n",
    "    \n",
    "    # replace=True表示可以重复抽样，反之不可以\n",
    "    sample_user_ids = np.random.choice(all_user_ids, size=sample_user_nums, replace=False) \n",
    "    \n",
    "    click_val = all_click[all_click['user_id'].isin(sample_user_ids)]\n",
    "    click_trn = all_click[~all_click['user_id'].isin(sample_user_ids)]\n",
    "    \n",
    "    # 将验证集中的最后一次点击给抽取出来作为答案\n",
    "    click_val = click_val.sort_values(['user_id', 'click_timestamp'])\n",
    "    val_ans = click_val.groupby('user_id').tail(1)\n",
    "    \n",
    "    click_val = click_val.groupby('user_id').apply(lambda x: x[:-1]).reset_index(drop=True)\n",
    "    \n",
    "    # 去除val_ans中某些用户只有一个点击数据的情况，如果该用户只有一个点击数据，又被分到ans中，\n",
    "    # 那么训练集中就没有这个用户的点击数据，出现用户冷启动问题，给自己模型验证带来麻烦\n",
    "    val_ans = val_ans[val_ans.user_id.isin(click_val.user_id.unique())] # 保证答案中出现的用户再验证集中还有\n",
    "    click_val = click_val[click_val.user_id.isin(val_ans.user_id.unique())]\n",
    "    \n",
    "    return click_trn, click_val, val_ans"
   ]
  },
  {
   "cell_type": "code",
   "execution_count": 5,
   "id": "e3948a57",
   "metadata": {},
   "outputs": [],
   "source": [
    "def get_hist_and_last_click(all_click):\n",
    "    all_click = all_click.sort_values(by=['user_id', 'click_timestamp'])\n",
    "    click_last_df = all_click.groupby('user_id').tail(1)\n",
    "\n",
    "    # 如果用户只有一个点击，hist为空了，会导致训练的时候这个用户不可见，此时默认泄露一下\n",
    "    def hist_func(user_df):\n",
    "        if len(user_df) == 1:\n",
    "            return user_df\n",
    "        else:\n",
    "            return user_df[:-1]\n",
    "\n",
    "    click_hist_df = all_click.groupby('user_id').apply(hist_func).reset_index(drop=True)\n",
    "\n",
    "    return click_hist_df, click_last_df"
   ]
  },
  {
   "cell_type": "code",
   "execution_count": 2,
   "id": "c3c13f12",
   "metadata": {},
   "outputs": [
    {
     "data": {
      "text/plain": [
       "<bound method NDFrame.head of         article_id     emb_0     emb_1     emb_2     emb_3     emb_4  \\\n",
       "0                0 -0.161183 -0.957233 -0.137944  0.050855  0.830055   \n",
       "1                1 -0.523216 -0.974058  0.738608  0.155234  0.626294   \n",
       "2                2 -0.619619 -0.972960 -0.207360 -0.128861  0.044748   \n",
       "3                3 -0.740843 -0.975749  0.391698  0.641738 -0.268645   \n",
       "4                4 -0.279052 -0.972315  0.685374  0.113056  0.238315   \n",
       "...            ...       ...       ...       ...       ...       ...   \n",
       "364042      364042 -0.055038 -0.962136  0.869436 -0.071523 -0.725294   \n",
       "364043      364043 -0.136932 -0.995471  0.991298  0.031871 -0.915621   \n",
       "364044      364044 -0.251390 -0.976243  0.586097  0.643631 -0.663359   \n",
       "364045      364045  0.224342 -0.923288 -0.381742  0.687890 -0.773911   \n",
       "364046      364046 -0.257134 -0.994631  0.983792 -0.190975 -0.953720   \n",
       "\n",
       "           emb_5     emb_6     emb_7     emb_8  ...   emb_240   emb_241  \\\n",
       "0       0.901365 -0.335148 -0.559561 -0.500603  ...  0.321248  0.313999   \n",
       "1       0.485297 -0.715657 -0.897996 -0.359747  ... -0.487843  0.823124   \n",
       "2      -0.387535 -0.730477 -0.066126 -0.754899  ...  0.454756  0.473184   \n",
       "3       0.191745 -0.825593 -0.710591 -0.040099  ...  0.271535  0.036040   \n",
       "4       0.271913 -0.568816  0.341194 -0.600554  ...  0.238286  0.809268   \n",
       "...          ...       ...       ...       ...  ...       ...       ...   \n",
       "364042  0.434320  0.198312 -0.581154  0.702346  ... -0.410550  0.564253   \n",
       "364043 -0.658517  0.633090 -0.564356  0.676551  ... -0.681986 -0.574185   \n",
       "364044 -0.093480  0.691554 -0.588281  0.902999  ... -0.162220 -0.242030   \n",
       "364045 -0.103629 -0.406486  0.246004  0.255191  ... -0.422999  0.390324   \n",
       "364046 -0.893823  0.708974 -0.557027  0.846842  ... -0.490481 -0.689666   \n",
       "\n",
       "         emb_242   emb_243   emb_244   emb_245   emb_246   emb_247   emb_248  \\\n",
       "0       0.636412  0.169179  0.540524 -0.813182  0.286870 -0.231686  0.597416   \n",
       "1       0.412688 -0.338654  0.320786  0.588643 -0.594137  0.182828  0.397090   \n",
       "2       0.377866 -0.863887 -0.383365  0.137721 -0.810877 -0.447580  0.805932   \n",
       "3       0.480029 -0.763173  0.022627  0.565165 -0.910286 -0.537838  0.243541   \n",
       "4       0.427521 -0.615932 -0.503697  0.614450 -0.917760 -0.424061  0.185484   \n",
       "...          ...       ...       ...       ...       ...       ...       ...   \n",
       "364042 -0.463959  0.167907 -0.480068  0.652090  0.380880  0.433195 -0.662455   \n",
       "364043 -0.536908  0.688934  0.528204  0.162435  0.940364  0.989298 -0.761595   \n",
       "364044 -0.476131  0.352132 -0.311279  0.460574 -0.653077 -0.143725  0.068093   \n",
       "364045  0.655911 -0.646753 -0.174031  0.698037 -0.317102  0.687132 -0.531512   \n",
       "364046 -0.661846  0.490945  0.736526  0.667668  0.902130  0.983873 -0.838183   \n",
       "\n",
       "         emb_249  \n",
       "0       0.409623  \n",
       "1      -0.834364  \n",
       "2      -0.285284  \n",
       "3      -0.885329  \n",
       "4      -0.580292  \n",
       "...          ...  \n",
       "364042 -0.222850  \n",
       "364043 -0.414652  \n",
       "364044 -0.705010  \n",
       "364045  0.010726  \n",
       "364046 -0.179283  \n",
       "\n",
       "[364047 rows x 251 columns]>"
      ]
     },
     "execution_count": 2,
     "metadata": {},
     "output_type": "execute_result"
    }
   ],
   "source": [
    "emb = pd.read_csv('../data/raw/articles_emb.csv')\n",
    "emb.head"
   ]
  },
  {
   "cell_type": "code",
   "execution_count": 3,
   "id": "da79edbe",
   "metadata": {},
   "outputs": [],
   "source": [
    "emb_cols = [f'emb_{i}' for i in range(250)]  # 根据实际列数调整\n",
    "\n",
    "# 直接使用numpy数组构建字典(最快)\n",
    "article_ids = emb['article_id'].values\n",
    "embedding_matrix = emb[emb_cols].values\n",
    "\n",
    "item_emb_dict = {\n",
    "    article_id: embedding_matrix[idx] \n",
    "    for idx, article_id in enumerate(article_ids)\n",
    "}"
   ]
  },
  {
   "cell_type": "code",
   "execution_count": 4,
   "id": "1d4e077c",
   "metadata": {},
   "outputs": [
    {
     "data": {
      "text/plain": [
       "array([-0.61961854, -0.9729604 , -0.20736018, -0.12886102,  0.04474759,\n",
       "       -0.387535  , -0.73047674, -0.06612612, -0.75489885, -0.24200428,\n",
       "        0.670484  , -0.2803883 , -0.557285  , -0.08414505,  0.02778196,\n",
       "        0.29407424,  0.36269727, -0.3685494 ,  0.14796   , -0.01175088,\n",
       "        0.03020873,  0.10631693,  0.6280128 ,  0.388849  ,  0.6159109 ,\n",
       "       -0.44511306,  0.10602808,  0.13710949, -0.09553552,  0.3425321 ,\n",
       "        0.5926465 , -0.26179096,  0.34212252,  0.7045392 , -0.43306684,\n",
       "        0.1041543 ,  0.7859709 ,  0.5886402 , -0.62768734, -0.14329416,\n",
       "        0.39983153, -0.70823455, -0.73296404, -0.95824176, -0.629325  ,\n",
       "       -0.28223997,  0.0551875 , -0.70930463,  0.5806534 , -0.5183282 ,\n",
       "        0.0590419 ,  0.66433567,  0.37024036, -0.22426963, -0.22767073,\n",
       "        0.6944705 ,  0.16796917,  0.10058454,  0.9468768 , -0.47480643,\n",
       "        0.91217107, -0.43829462, -0.04617592,  0.80739474, -0.2778143 ,\n",
       "       -0.6002078 , -0.5066402 , -0.00820139, -0.8228875 ,  0.2007798 ,\n",
       "        0.29347017,  0.6092525 , -0.6335858 , -0.75588113, -0.20164421,\n",
       "       -0.8128615 , -0.28390712, -0.8338001 , -0.5983968 , -0.05529217,\n",
       "        0.04452528, -0.33476397,  0.52112645, -0.3640041 , -0.6908397 ,\n",
       "       -0.8012401 ,  0.5533705 ,  0.74320245, -0.42877087, -0.48136944,\n",
       "       -0.5091764 ,  0.0231401 , -0.6849103 , -0.131261  ,  0.38206697,\n",
       "        0.14063244,  0.4497598 , -0.5771929 ,  0.40047687, -0.7790704 ,\n",
       "        0.14744663, -0.19264965, -0.6540247 , -0.22991715,  0.24190693,\n",
       "        0.44316638,  0.3711746 , -0.02908001,  0.5786215 ,  0.31998798,\n",
       "       -0.5572205 ,  0.8596662 ,  0.02991454,  0.81787074,  0.41606712,\n",
       "        0.29073954,  0.1284451 , -0.6975347 , -0.26847145,  0.22473739,\n",
       "       -0.04160987,  0.6536587 ,  0.6486424 , -0.08109035,  0.25798333,\n",
       "       -0.13012607,  0.52703834,  0.8891222 , -0.45905393,  0.20329566,\n",
       "       -0.7709458 , -0.31373432,  0.20574173,  0.686514  ,  0.9611321 ,\n",
       "        0.20189174, -0.28076124,  0.6655121 , -0.47473463,  0.7556301 ,\n",
       "       -0.8514799 , -0.19893026, -0.56656754,  0.01221101, -0.15132473,\n",
       "        0.47432616, -0.02631824,  0.31660327, -0.2690428 , -0.5231459 ,\n",
       "        0.9180193 , -0.01004316,  0.5588951 , -0.55145407, -0.06359299,\n",
       "       -0.21568829, -0.10360695, -0.10441898, -0.22273055, -0.16902   ,\n",
       "        0.5398216 , -0.02684032,  0.32903978,  0.69684696,  0.22801323,\n",
       "       -0.18862388,  0.5981059 , -0.65792733,  0.30257994,  0.3537352 ,\n",
       "       -0.4648315 , -0.6071538 ,  0.79842037,  0.87306833, -0.06188577,\n",
       "        0.7593738 ,  0.08122122, -0.135324  ,  0.06847826, -0.06454425,\n",
       "        0.2575452 , -0.5884914 ,  0.17373905,  0.25228524, -0.44891816,\n",
       "        0.5290899 ,  0.13472247, -0.16171558, -0.3073884 ,  0.15500672,\n",
       "       -0.5801937 ,  0.33319435, -0.5369098 , -0.06604467, -0.04154485,\n",
       "       -0.14278157,  0.4121547 , -0.6233337 , -0.96528286,  0.5994842 ,\n",
       "        0.5175131 ,  0.46808377, -0.74577326, -0.14307341, -0.063774  ,\n",
       "        0.03437525, -0.8180665 ,  0.43799338, -0.19257067,  0.41348705,\n",
       "       -0.6008404 , -0.53932273,  0.41819635,  0.02871532,  0.1350077 ,\n",
       "       -0.31348306,  0.7443608 , -0.14511348, -0.485484  , -0.59155476,\n",
       "        0.03011219,  0.9527359 , -0.56937635, -0.35968015,  0.561676  ,\n",
       "        0.38167137, -0.18930016,  0.42094955,  0.02233744, -0.3295591 ,\n",
       "        0.23276466,  0.4243681 , -0.4845985 ,  0.3943427 , -0.32952744,\n",
       "       -0.85229295,  0.63499165, -0.5326731 , -0.46939626,  0.71499074,\n",
       "        0.4547558 ,  0.47318393,  0.37786552, -0.8638872 , -0.38336506,\n",
       "        0.13772134, -0.8108767 , -0.44758022,  0.8059317 , -0.28528407])"
      ]
     },
     "execution_count": 4,
     "metadata": {},
     "output_type": "execute_result"
    }
   ],
   "source": [
    "item_emb_dict[2]"
   ]
  },
  {
   "cell_type": "code",
   "execution_count": 5,
   "id": "20f06864",
   "metadata": {},
   "outputs": [
    {
     "data": {
      "application/vnd.microsoft.datawrangler.viewer.v0+json": {
       "columns": [
        {
         "name": "index",
         "rawType": "int64",
         "type": "integer"
        },
        {
         "name": "user_id",
         "rawType": "int64",
         "type": "integer"
        },
        {
         "name": "click_article_id",
         "rawType": "int64",
         "type": "integer"
        },
        {
         "name": "click_timestamp",
         "rawType": "int64",
         "type": "integer"
        },
        {
         "name": "click_environment",
         "rawType": "int64",
         "type": "integer"
        },
        {
         "name": "click_deviceGroup",
         "rawType": "int64",
         "type": "integer"
        },
        {
         "name": "click_os",
         "rawType": "int64",
         "type": "integer"
        },
        {
         "name": "click_country",
         "rawType": "int64",
         "type": "integer"
        },
        {
         "name": "click_region",
         "rawType": "int64",
         "type": "integer"
        },
        {
         "name": "click_referrer_type",
         "rawType": "int64",
         "type": "integer"
        }
       ],
       "ref": "cd6f0c31-3d93-4cfa-aa14-254ac645f0e1",
       "rows": [
        [
         "0",
         "199999",
         "160417",
         "1507029570190",
         "4",
         "1",
         "17",
         "1",
         "13",
         "1"
        ],
        [
         "1",
         "199999",
         "5408",
         "1507029571478",
         "4",
         "1",
         "17",
         "1",
         "13",
         "1"
        ],
        [
         "2",
         "199999",
         "50823",
         "1507029601478",
         "4",
         "1",
         "17",
         "1",
         "13",
         "1"
        ],
        [
         "3",
         "199998",
         "157770",
         "1507029532200",
         "4",
         "1",
         "17",
         "1",
         "25",
         "5"
        ],
        [
         "4",
         "199998",
         "96613",
         "1507029671831",
         "4",
         "1",
         "17",
         "1",
         "25",
         "5"
        ]
       ],
       "shape": {
        "columns": 9,
        "rows": 5
       }
      },
      "text/html": [
       "<div>\n",
       "<style scoped>\n",
       "    .dataframe tbody tr th:only-of-type {\n",
       "        vertical-align: middle;\n",
       "    }\n",
       "\n",
       "    .dataframe tbody tr th {\n",
       "        vertical-align: top;\n",
       "    }\n",
       "\n",
       "    .dataframe thead th {\n",
       "        text-align: right;\n",
       "    }\n",
       "</style>\n",
       "<table border=\"1\" class=\"dataframe\">\n",
       "  <thead>\n",
       "    <tr style=\"text-align: right;\">\n",
       "      <th></th>\n",
       "      <th>user_id</th>\n",
       "      <th>click_article_id</th>\n",
       "      <th>click_timestamp</th>\n",
       "      <th>click_environment</th>\n",
       "      <th>click_deviceGroup</th>\n",
       "      <th>click_os</th>\n",
       "      <th>click_country</th>\n",
       "      <th>click_region</th>\n",
       "      <th>click_referrer_type</th>\n",
       "    </tr>\n",
       "  </thead>\n",
       "  <tbody>\n",
       "    <tr>\n",
       "      <th>0</th>\n",
       "      <td>199999</td>\n",
       "      <td>160417</td>\n",
       "      <td>1507029570190</td>\n",
       "      <td>4</td>\n",
       "      <td>1</td>\n",
       "      <td>17</td>\n",
       "      <td>1</td>\n",
       "      <td>13</td>\n",
       "      <td>1</td>\n",
       "    </tr>\n",
       "    <tr>\n",
       "      <th>1</th>\n",
       "      <td>199999</td>\n",
       "      <td>5408</td>\n",
       "      <td>1507029571478</td>\n",
       "      <td>4</td>\n",
       "      <td>1</td>\n",
       "      <td>17</td>\n",
       "      <td>1</td>\n",
       "      <td>13</td>\n",
       "      <td>1</td>\n",
       "    </tr>\n",
       "    <tr>\n",
       "      <th>2</th>\n",
       "      <td>199999</td>\n",
       "      <td>50823</td>\n",
       "      <td>1507029601478</td>\n",
       "      <td>4</td>\n",
       "      <td>1</td>\n",
       "      <td>17</td>\n",
       "      <td>1</td>\n",
       "      <td>13</td>\n",
       "      <td>1</td>\n",
       "    </tr>\n",
       "    <tr>\n",
       "      <th>3</th>\n",
       "      <td>199998</td>\n",
       "      <td>157770</td>\n",
       "      <td>1507029532200</td>\n",
       "      <td>4</td>\n",
       "      <td>1</td>\n",
       "      <td>17</td>\n",
       "      <td>1</td>\n",
       "      <td>25</td>\n",
       "      <td>5</td>\n",
       "    </tr>\n",
       "    <tr>\n",
       "      <th>4</th>\n",
       "      <td>199998</td>\n",
       "      <td>96613</td>\n",
       "      <td>1507029671831</td>\n",
       "      <td>4</td>\n",
       "      <td>1</td>\n",
       "      <td>17</td>\n",
       "      <td>1</td>\n",
       "      <td>25</td>\n",
       "      <td>5</td>\n",
       "    </tr>\n",
       "  </tbody>\n",
       "</table>\n",
       "</div>"
      ],
      "text/plain": [
       "   user_id  click_article_id  click_timestamp  click_environment  \\\n",
       "0   199999            160417    1507029570190                  4   \n",
       "1   199999              5408    1507029571478                  4   \n",
       "2   199999             50823    1507029601478                  4   \n",
       "3   199998            157770    1507029532200                  4   \n",
       "4   199998             96613    1507029671831                  4   \n",
       "\n",
       "   click_deviceGroup  click_os  click_country  click_region  \\\n",
       "0                  1        17              1            13   \n",
       "1                  1        17              1            13   \n",
       "2                  1        17              1            13   \n",
       "3                  1        17              1            25   \n",
       "4                  1        17              1            25   \n",
       "\n",
       "   click_referrer_type  \n",
       "0                    1  \n",
       "1                    1  \n",
       "2                    1  \n",
       "3                    5  \n",
       "4                    5  "
      ]
     },
     "execution_count": 5,
     "metadata": {},
     "output_type": "execute_result"
    }
   ],
   "source": [
    "click = pd.read_csv('../data/raw/train_click_log.csv')\n",
    "click.head()"
   ]
  },
  {
   "cell_type": "code",
   "execution_count": 6,
   "id": "2dd01942",
   "metadata": {},
   "outputs": [
    {
     "data": {
      "application/vnd.microsoft.datawrangler.viewer.v0+json": {
       "columns": [
        {
         "name": "index",
         "rawType": "int64",
         "type": "integer"
        },
        {
         "name": "article_id",
         "rawType": "int64",
         "type": "integer"
        },
        {
         "name": "category_id",
         "rawType": "int64",
         "type": "integer"
        },
        {
         "name": "created_at_ts",
         "rawType": "int64",
         "type": "integer"
        },
        {
         "name": "words_count",
         "rawType": "int64",
         "type": "integer"
        }
       ],
       "ref": "8678f246-306e-4a21-b173-149500e13a00",
       "rows": [
        [
         "0",
         "0",
         "0",
         "1513144419000",
         "168"
        ],
        [
         "1",
         "1",
         "1",
         "1405341936000",
         "189"
        ],
        [
         "2",
         "2",
         "1",
         "1408667706000",
         "250"
        ],
        [
         "3",
         "3",
         "1",
         "1408468313000",
         "230"
        ],
        [
         "4",
         "4",
         "1",
         "1407071171000",
         "162"
        ]
       ],
       "shape": {
        "columns": 4,
        "rows": 5
       }
      },
      "text/html": [
       "<div>\n",
       "<style scoped>\n",
       "    .dataframe tbody tr th:only-of-type {\n",
       "        vertical-align: middle;\n",
       "    }\n",
       "\n",
       "    .dataframe tbody tr th {\n",
       "        vertical-align: top;\n",
       "    }\n",
       "\n",
       "    .dataframe thead th {\n",
       "        text-align: right;\n",
       "    }\n",
       "</style>\n",
       "<table border=\"1\" class=\"dataframe\">\n",
       "  <thead>\n",
       "    <tr style=\"text-align: right;\">\n",
       "      <th></th>\n",
       "      <th>article_id</th>\n",
       "      <th>category_id</th>\n",
       "      <th>created_at_ts</th>\n",
       "      <th>words_count</th>\n",
       "    </tr>\n",
       "  </thead>\n",
       "  <tbody>\n",
       "    <tr>\n",
       "      <th>0</th>\n",
       "      <td>0</td>\n",
       "      <td>0</td>\n",
       "      <td>1513144419000</td>\n",
       "      <td>168</td>\n",
       "    </tr>\n",
       "    <tr>\n",
       "      <th>1</th>\n",
       "      <td>1</td>\n",
       "      <td>1</td>\n",
       "      <td>1405341936000</td>\n",
       "      <td>189</td>\n",
       "    </tr>\n",
       "    <tr>\n",
       "      <th>2</th>\n",
       "      <td>2</td>\n",
       "      <td>1</td>\n",
       "      <td>1408667706000</td>\n",
       "      <td>250</td>\n",
       "    </tr>\n",
       "    <tr>\n",
       "      <th>3</th>\n",
       "      <td>3</td>\n",
       "      <td>1</td>\n",
       "      <td>1408468313000</td>\n",
       "      <td>230</td>\n",
       "    </tr>\n",
       "    <tr>\n",
       "      <th>4</th>\n",
       "      <td>4</td>\n",
       "      <td>1</td>\n",
       "      <td>1407071171000</td>\n",
       "      <td>162</td>\n",
       "    </tr>\n",
       "  </tbody>\n",
       "</table>\n",
       "</div>"
      ],
      "text/plain": [
       "   article_id  category_id  created_at_ts  words_count\n",
       "0           0            0  1513144419000          168\n",
       "1           1            1  1405341936000          189\n",
       "2           2            1  1408667706000          250\n",
       "3           3            1  1408468313000          230\n",
       "4           4            1  1407071171000          162"
      ]
     },
     "execution_count": 6,
     "metadata": {},
     "output_type": "execute_result"
    }
   ],
   "source": [
    "articles = pd.read_csv('../data/raw/articles.csv')\n",
    "articles.head()"
   ]
  },
  {
   "cell_type": "code",
   "execution_count": 3,
   "id": "fa62e47d",
   "metadata": {},
   "outputs": [],
   "source": [
    "import pickle\n",
    "import os"
   ]
  },
  {
   "cell_type": "code",
   "execution_count": 6,
   "id": "d9eddf92",
   "metadata": {},
   "outputs": [],
   "source": [
    "path = \"../temp/all_recall_results.pkl\"\n",
    "with open(path, 'rb') as f:\n",
    "    all_recall_results = pickle.load(f)"
   ]
  },
  {
   "cell_type": "code",
   "execution_count": 12,
   "id": "76e205e0",
   "metadata": {},
   "outputs": [
    {
     "data": {
      "text/plain": [
       "[(124352, 0.9627451735014284),\n",
       " (124228, 0.9252055640072008),\n",
       " (124177, 0.9221347840781757),\n",
       " (123289, 0.920215561294154),\n",
       " (124350, 0.9160100563142084),\n",
       " (124194, 0.914803620585804),\n",
       " (123909, 0.9125198739466032),\n",
       " (158046, 0.911674797610559),\n",
       " (20249, 0.9116732013313792),\n",
       " (140646, 0.9116731574053989),\n",
       " (30064, 0.9116702021379017),\n",
       " (109812, 0.9116677594911227),\n",
       " (57771, 0.9116624471645811),\n",
       " (84020, 0.9116552238314753),\n",
       " (76002, 0.9116539948097181),\n",
       " (216448, 0.911653145725048),\n",
       " (158023, 0.9116511880754326),\n",
       " (136599, 0.9116497244798838),\n",
       " (160565, 0.9116487092010409),\n",
       " (158047, 0.911646830799328),\n",
       " (129520, 0.911646629736078),\n",
       " (140627, 0.9116449840967761),\n",
       " (13635, 0.9116435934092977),\n",
       " (58265, 0.9116427447774726),\n",
       " (158850, 0.9116414754524964),\n",
       " (201797, 0.9116395757670611),\n",
       " (106313, 0.9116386551328561),\n",
       " (123368, 0.9116195179612896),\n",
       " (140676, 0.9115379769795942),\n",
       " (124176, 0.9106024230639465)]"
      ]
     },
     "execution_count": 12,
     "metadata": {},
     "output_type": "execute_result"
    }
   ],
   "source": [
    "all_recall_results[131078]"
   ]
  },
  {
   "cell_type": "code",
   "execution_count": 13,
   "id": "f57f99a4",
   "metadata": {},
   "outputs": [
    {
     "data": {
      "text/plain": [
       "[(30064, 0.911680424664485),\n",
       " (140646, 0.9116803259442406),\n",
       " (20249, 0.911680301037757),\n",
       " (158046, 0.9116664032198762),\n",
       " (158023, 0.9116624349377619),\n",
       " (140627, 0.9116582107981336),\n",
       " (57771, 0.9116569387560864),\n",
       " (84020, 0.9116539028821512),\n",
       " (76002, 0.9116536719311209),\n",
       " (109812, 0.9116535954002892),\n",
       " (160565, 0.91165017370228),\n",
       " (129520, 0.9116456769498669),\n",
       " (136599, 0.9116447748823133),\n",
       " (158850, 0.9116444914012448),\n",
       " (87212, 0.9116418526725125),\n",
       " (13635, 0.911641201028331),\n",
       " (106313, 0.9116378024254247),\n",
       " (216448, 0.9116343146120224),\n",
       " (174691, 0.9116321654089053),\n",
       " (187642, 0.9116311125439144),\n",
       " (214800, 0.910226777439227),\n",
       " (111210, 0.908954388983774),\n",
       " (71076, 0.9088510757017482),\n",
       " (160132, 0.9082284493551545),\n",
       " (233478, 0.9081793381521457),\n",
       " (293301, 0.9080102784012332),\n",
       " (40969, 0.9077640172247813),\n",
       " (257291, 0.9075642500453636),\n",
       " (297639, 0.9074363038684117),\n",
       " (159762, 0.9071887493317825)]"
      ]
     },
     "execution_count": 13,
     "metadata": {},
     "output_type": "execute_result"
    }
   ],
   "source": [
    "all_recall_results[163862]"
   ]
  }
 ],
 "metadata": {
  "kernelspec": {
   "display_name": "base",
   "language": "python",
   "name": "python3"
  },
  "language_info": {
   "codemirror_mode": {
    "name": "ipython",
    "version": 3
   },
   "file_extension": ".py",
   "mimetype": "text/x-python",
   "name": "python",
   "nbconvert_exporter": "python",
   "pygments_lexer": "ipython3",
   "version": "3.12.7"
  }
 },
 "nbformat": 4,
 "nbformat_minor": 5
}
